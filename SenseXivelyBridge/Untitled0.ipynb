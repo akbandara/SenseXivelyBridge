{
 "metadata": {
  "name": ""
 },
 "nbformat": 3,
 "nbformat_minor": 0,
 "worksheets": [
  {
   "cells": [
    {
     "cell_type": "code",
     "collapsed": false,
     "input": [
      "import urllib.request\n",
      "import urllib.parse\n",
      "import json\n",
      "import xively"
     ],
     "language": "python",
     "metadata": {},
     "outputs": [],
     "prompt_number": 1
    },
    {
     "cell_type": "code",
     "collapsed": false,
     "input": [
      "# XIVELY_READ_API_KEY = '5SRGqR6D7H6bkjhdwRuocYpKW0ZSXEzhgzb8U8tl07gESlI4'\n",
      "# XIVELY_UPDATE_API_KEY = 'fsPGDjvqoL3WIwHG9oAbb4OfiXKfS6zzXJea0e3REu0qH3e3'\n",
      "XIVELY_MASTER_API_KEY = 'WEGSMT5oECSICidhqSB76S7m7eiPv4yxl9sIrUfpetrCaVnK'\n",
      "api = xively.XivelyAPIClient(XIVELY_MASTER_API_KEY)\n",
      "client = xively.Client(XIVELY_MASTER_API_KEY)"
     ],
     "language": "python",
     "metadata": {},
     "outputs": [],
     "prompt_number": 2
    },
    {
     "cell_type": "code",
     "collapsed": false,
     "input": [
      "senseboard_product_details = [p for p in client.get('/v2/products').json()['products'] \n",
      "                 if 'Sense' in p['name'] and p['activated_devices_count'] > 10][0]\n",
      "SENSE_PRODUCT_CODE = senseboard_product_details['product_id']\n",
      "SENSE_PRODUCT_CODE"
     ],
     "language": "python",
     "metadata": {},
     "outputs": [
      {
       "metadata": {},
       "output_type": "pyout",
       "prompt_number": 3,
       "text": [
        "'oX_o7uPqUie-07wBi4m0'"
       ]
      }
     ],
     "prompt_number": 3
    },
    {
     "cell_type": "code",
     "collapsed": false,
     "input": [
      "senseboards = client.get('/v2/products/{}/devices?per_page=1000'.format(SENSE_PRODUCT_CODE)).json()['devices']\n",
      "len(senseboards)"
     ],
     "language": "python",
     "metadata": {},
     "outputs": [
      {
       "metadata": {},
       "output_type": "pyout",
       "prompt_number": 101,
       "text": [
        "58"
       ]
      }
     ],
     "prompt_number": 101
    },
    {
     "cell_type": "code",
     "collapsed": false,
     "input": [
      "senseboards[-3:]"
     ],
     "language": "python",
     "metadata": {},
     "outputs": [
      {
       "metadata": {},
       "output_type": "pyout",
       "prompt_number": 102,
       "text": [
        "[{'activated_at': '2014-03-02T14:19:06Z',\n",
        "  'activation_code': 'aed1830ecc02918e92e808f1eaad05e04465aa11',\n",
        "  'api_key': 'IxkcgQYEw0G83dkGRxxGE7IZL6LJROz9XREydQW4mlBTRlma',\n",
        "  'created_at': '2014-03-02T14:10:11Z',\n",
        "  'feed_id': 1503744928,\n",
        "  'serial': 'mood1'},\n",
        " {'activated_at': '2014-03-02T16:42:23Z',\n",
        "  'activation_code': '9f82c71c74506ed833931065fabec68eaea22f7e',\n",
        "  'api_key': 'sfMVOrZg2fmNJ2A2i9xA4eTa2tPyp3XcdIYRPcLwOkTmcPEi',\n",
        "  'created_at': '2014-03-02T16:42:22Z',\n",
        "  'feed_id': 993225891,\n",
        "  'serial': 'a06c17bca22911e3858790e6ba95de44'},\n",
        " {'activated_at': '2014-03-02T16:43:36Z',\n",
        "  'activation_code': '036f270c365ab4c93a4bfc1ee7f0396ec3b7cbb4',\n",
        "  'api_key': 'EjUmPsI07WdDkfyu2qn9J7E8zvpw8yftnfNe2oOgn8kJsVd6',\n",
        "  'created_at': '2014-03-02T16:43:35Z',\n",
        "  'feed_id': 1737538428,\n",
        "  'serial': 'cbee8dfca22911e3aa1990e6ba95de44'}]"
       ]
      }
     ],
     "prompt_number": 102
    },
    {
     "cell_type": "code",
     "collapsed": false,
     "input": [
      "device_data = {'devices': [{'serial': 'mood1'}]}\n",
      "response = client.post('/v2/products/{}/devices'.format(SENSE_PRODUCT_CODE), data=device_data)\n",
      "response"
     ],
     "language": "python",
     "metadata": {},
     "outputs": [
      {
       "metadata": {},
       "output_type": "pyout",
       "prompt_number": 51,
       "text": [
        "<Response [201]>"
       ]
      }
     ],
     "prompt_number": 51
    },
    {
     "cell_type": "code",
     "collapsed": false,
     "input": [
      "mood_voter = [s for s in senseboards if s['serial'] == 'mood1'][0]\n",
      "mood_voter"
     ],
     "language": "python",
     "metadata": {},
     "outputs": [
      {
       "metadata": {},
       "output_type": "pyout",
       "prompt_number": 68,
       "text": [
        "{'activated_at': '2014-03-02T14:19:06Z',\n",
        " 'activation_code': 'aed1830ecc02918e92e808f1eaad05e04465aa11',\n",
        " 'api_key': 'IxkcgQYEw0G83dkGRxxGE7IZL6LJROz9XREydQW4mlBTRlma',\n",
        " 'created_at': '2014-03-02T14:10:11Z',\n",
        " 'feed_id': 1503744928,\n",
        " 'serial': 'mood1'}"
       ]
      }
     ],
     "prompt_number": 68
    },
    {
     "cell_type": "code",
     "collapsed": false,
     "input": [
      "a_response = client.get('/v2/devices/{}/activate'.format(mood_voter['activation_code']))\n",
      "a_response"
     ],
     "language": "python",
     "metadata": {},
     "outputs": [
      {
       "metadata": {},
       "output_type": "pyout",
       "prompt_number": 63,
       "text": [
        "<Response [200]>"
       ]
      }
     ],
     "prompt_number": 63
    },
    {
     "cell_type": "code",
     "collapsed": false,
     "input": [
      "a_response.json()"
     ],
     "language": "python",
     "metadata": {},
     "outputs": [
      {
       "metadata": {},
       "output_type": "pyout",
       "prompt_number": 66,
       "text": [
        "{'apikey': 'IxkcgQYEw0G83dkGRxxGE7IZL6LJROz9XREydQW4mlBTRlma',\n",
        " 'datastreams': ['button',\n",
        "  'infrared',\n",
        "  'light',\n",
        "  'slider',\n",
        "  'sound',\n",
        "  'temperature',\n",
        "  'votes'],\n",
        " 'feed_id': 1503744928}"
       ]
      }
     ],
     "prompt_number": 66
    },
    {
     "cell_type": "code",
     "collapsed": false,
     "input": [
      "mood_device_api_key = a_response.json()['apikey']\n",
      "mood_device_feed_id = a_response.json()['feed_id']"
     ],
     "language": "python",
     "metadata": {},
     "outputs": [],
     "prompt_number": 74
    },
    {
     "cell_type": "code",
     "collapsed": false,
     "input": [
      "mood_api = xively.XivelyAPIClient(mood_device_api_key)\n",
      "mood_feed = mood_api.feeds.get(mood_device_feed_id)\n",
      "mood_api, mood_feed"
     ],
     "language": "python",
     "metadata": {},
     "outputs": [
      {
       "metadata": {},
       "output_type": "pyout",
       "prompt_number": 75,
       "text": [
        "(<xively.XivelyAPIClient()>, <xively.Feed(1503744928)>)"
       ]
      }
     ],
     "prompt_number": 75
    },
    {
     "cell_type": "code",
     "collapsed": false,
     "input": [
      "list(mood_feed.datastreams.list())"
     ],
     "language": "python",
     "metadata": {},
     "outputs": [
      {
       "metadata": {},
       "output_type": "pyout",
       "prompt_number": 76,
       "text": [
        "[<xively.Datastream('button')>,\n",
        " <xively.Datastream('infrared')>,\n",
        " <xively.Datastream('light')>,\n",
        " <xively.Datastream('slider')>,\n",
        " <xively.Datastream('sound')>,\n",
        " <xively.Datastream('temperature')>,\n",
        " <xively.Datastream('votes')>]"
       ]
      }
     ],
     "prompt_number": 76
    },
    {
     "cell_type": "code",
     "collapsed": false,
     "input": [
      "voteStreams = ['HappyVotes', 'MehVotes', 'SadVotes']\n",
      "existing_stream_ids = [d.id for d in feed.datastreams.list()]\n",
      "for v in voteStreams:\n",
      "    if v not in existing_stream_ids:\n",
      "        mood_feed.datastreams.create(v)\n",
      "\n",
      "list(feed.datastreams.list())"
     ],
     "language": "python",
     "metadata": {},
     "outputs": [
      {
       "metadata": {},
       "output_type": "pyout",
       "prompt_number": 77,
       "text": [
        "[<xively.Datastream('button')>,\n",
        " <xively.Datastream('HappyVotes')>,\n",
        " <xively.Datastream('infrared')>,\n",
        " <xively.Datastream('light')>,\n",
        " <xively.Datastream('MehVotes')>,\n",
        " <xively.Datastream('SadVotes')>,\n",
        " <xively.Datastream('slider')>,\n",
        " <xively.Datastream('sound')>,\n",
        " <xively.Datastream('temperature')>,\n",
        " <xively.Datastream('votes')>]"
       ]
      }
     ],
     "prompt_number": 77
    },
    {
     "cell_type": "code",
     "collapsed": false,
     "input": [
      "import uuid\n",
      "import configparser\n",
      "import os.path"
     ],
     "language": "python",
     "metadata": {},
     "outputs": [],
     "prompt_number": 79
    },
    {
     "cell_type": "code",
     "collapsed": false,
     "input": [
      "CONFIG_FILE = os.path.expanduser(\"~/.sense_xively.config\")"
     ],
     "language": "python",
     "metadata": {},
     "outputs": [],
     "prompt_number": 80
    },
    {
     "cell_type": "code",
     "collapsed": false,
     "input": [
      "os.path.isfile(CONFIG_FILE)"
     ],
     "language": "python",
     "metadata": {},
     "outputs": [
      {
       "metadata": {},
       "output_type": "pyout",
       "prompt_number": 82,
       "text": [
        "False"
       ]
      }
     ],
     "prompt_number": 82
    },
    {
     "cell_type": "code",
     "collapsed": false,
     "input": [
      "config = configparser.ConfigParser()\n",
      "config['mood'] = {'device_api_key': mood_device_api_key, 'feed_id': mood_device_feed_id}\n",
      "with open(CONFIG_FILE, 'w') as configfile:\n",
      "    config.write(configfile)"
     ],
     "language": "python",
     "metadata": {},
     "outputs": [],
     "prompt_number": 85
    },
    {
     "cell_type": "code",
     "collapsed": false,
     "input": [
      "config.read(CONFIG_FILE)"
     ],
     "language": "python",
     "metadata": {},
     "outputs": [
      {
       "metadata": {},
       "output_type": "pyout",
       "prompt_number": 86,
       "text": [
        "['/home/neil/.sense_xively.config']"
       ]
      }
     ],
     "prompt_number": 86
    },
    {
     "cell_type": "code",
     "collapsed": false,
     "input": [
      "config['mood']['feed_id']"
     ],
     "language": "python",
     "metadata": {},
     "outputs": [
      {
       "metadata": {},
       "output_type": "pyout",
       "prompt_number": 90,
       "text": [
        "'1503744928'"
       ]
      }
     ],
     "prompt_number": 90
    },
    {
     "cell_type": "code",
     "collapsed": false,
     "input": [
      "mapi = xively.XivelyAPIClient(config['mood']['device_api_key'])\n",
      "mfeed = mood_api.feeds.get(config['mood']['feed_id'])"
     ],
     "language": "python",
     "metadata": {},
     "outputs": [],
     "prompt_number": 91
    },
    {
     "cell_type": "code",
     "collapsed": false,
     "input": [
      "list(mfeed.datastreams.list())"
     ],
     "language": "python",
     "metadata": {},
     "outputs": [
      {
       "metadata": {},
       "output_type": "pyout",
       "prompt_number": 94,
       "text": [
        "[<xively.Datastream('button')>,\n",
        " <xively.Datastream('HappyVotes')>,\n",
        " <xively.Datastream('infrared')>,\n",
        " <xively.Datastream('light')>,\n",
        " <xively.Datastream('MehVotes')>,\n",
        " <xively.Datastream('SadVotes')>,\n",
        " <xively.Datastream('slider')>,\n",
        " <xively.Datastream('sound')>,\n",
        " <xively.Datastream('temperature')>,\n",
        " <xively.Datastream('votes')>]"
       ]
      }
     ],
     "prompt_number": 94
    },
    {
     "cell_type": "code",
     "collapsed": false,
     "input": [
      "voteStreams = ['HappyVotes', 'MehVotes', 'SadVotes']\n",
      "existing_stream_ids = [d.id for d in mfeed.datastreams.list()]\n",
      "for v in voteStreams:\n",
      "    if v not in existing_stream_ids:\n",
      "        mfeed.datastreams.create(v)"
     ],
     "language": "python",
     "metadata": {},
     "outputs": [],
     "prompt_number": 93
    },
    {
     "cell_type": "code",
     "collapsed": false,
     "input": [
      "sn = uuid.uuid1()\n",
      "sn"
     ],
     "language": "python",
     "metadata": {},
     "outputs": [
      {
       "metadata": {},
       "output_type": "pyout",
       "prompt_number": 95,
       "text": [
        "UUID('518636c8-a229-11e3-8d79-90e6ba95de44')"
       ]
      }
     ],
     "prompt_number": 95
    },
    {
     "cell_type": "code",
     "collapsed": false,
     "input": [
      "json.dumps(sn.hex)"
     ],
     "language": "python",
     "metadata": {},
     "outputs": [
      {
       "metadata": {},
       "output_type": "pyout",
       "prompt_number": 97,
       "text": [
        "'\"518636c8a22911e38d7990e6ba95de44\"'"
       ]
      }
     ],
     "prompt_number": 97
    },
    {
     "cell_type": "code",
     "collapsed": false,
     "input": [],
     "language": "python",
     "metadata": {},
     "outputs": []
    }
   ],
   "metadata": {}
  }
 ]
}